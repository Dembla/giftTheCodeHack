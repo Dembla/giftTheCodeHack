{
 "cells": [
  {
   "cell_type": "code",
   "execution_count": 1,
   "metadata": {
    "collapsed": true
   },
   "outputs": [],
   "source": [
    "import json\n",
    "import pandas as pd\n",
    "import numpy as np\n",
    "import random"
   ]
  },
  {
   "cell_type": "code",
   "execution_count": 2,
   "metadata": {
    "collapsed": true
   },
   "outputs": [],
   "source": [
    "class club:\n",
    "  def __init__(self, clubId, clubName, clubLocation, lat, long):\n",
    "    self.clubId = clubId\n",
    "    self.clubName = clubName\n",
    "    self.clubLocation = clubLocation\n",
    "    self.lat = lat\n",
    "    self.long = long"
   ]
  },
  {
   "cell_type": "code",
   "execution_count": 3,
   "metadata": {
    "collapsed": true
   },
   "outputs": [],
   "source": [
    "class event:\n",
    "    def __init__(self, eventId, eventName, startTime, endTime):\n",
    "        self.eventId = eventId\n",
    "        self.eventName = eventName\n",
    "        self.startTime = startTime\n",
    "        self.endTime = endTime        "
   ]
  },
  {
   "cell_type": "code",
   "execution_count": 4,
   "metadata": {
    "collapsed": true
   },
   "outputs": [],
   "source": [
    "# Create list of dict\n",
    "ageStart = 6\n",
    "ageEnd = 17\n",
    "ageRange = [a for a in range(ageStart, ageEnd+1)]"
   ]
  },
  {
   "cell_type": "code",
   "execution_count": 5,
   "metadata": {},
   "outputs": [
    {
     "data": {
      "text/plain": [
       "11"
      ]
     },
     "execution_count": 5,
     "metadata": {},
     "output_type": "execute_result"
    }
   ],
   "source": [
    "# Province Information\n",
    "provinceDict = {\"AB\":\"ALBERTA\", \"BC\":\"BRITISH COLUMBIA\",\"MB\":\"MANITOBA\",\"NB\":\"NEW BRUNSWICK\", \"NL\":\"NEW FOUNDLAND\", \"NS\":\"NOVA SCOTIA\", \"ON\":\"ONTARIO\", \"PE\":\"PEI\", \"QC\":\"QUEBEC\", \"SK\":\"SASKETCHWAN\", \"YT\":\"YUKON\"}\n",
    "provinceDictLength = len(list(provinceDict.keys()))\n",
    "provinceDictLength\n"
   ]
  },
  {
   "cell_type": "code",
   "execution_count": 6,
   "metadata": {},
   "outputs": [],
   "source": [
    "# Read the csv file\n",
    "fields = ['Title', 'ClubID', 'Latitude', 'Longitude', 'Address Line 1', 'City', 'Province', 'Postal Code', 'URL']\n",
    "clubCSV = pd.read_csv('/Users/hardiksahi/Desktop/HackathonData/MapLatitudeLongitudeCSV.csv', usecols=fields).loc[0:90,]"
   ]
  },
  {
   "cell_type": "code",
   "execution_count": 7,
   "metadata": {
    "collapsed": true
   },
   "outputs": [],
   "source": [
    "clubCSV['CombinedAddress'] = clubCSV['Address Line 1']+', '+clubCSV['City']+', '+ clubCSV['Postal Code']+', '+ clubCSV['Province']"
   ]
  },
  {
   "cell_type": "code",
   "execution_count": 8,
   "metadata": {
    "collapsed": true
   },
   "outputs": [],
   "source": [
    "#clubCSV['ClubID'] = clubCSV['ClubID'].astype(int) "
   ]
  },
  {
   "cell_type": "code",
   "execution_count": 9,
   "metadata": {},
   "outputs": [
    {
     "data": {
      "text/html": [
       "<div>\n",
       "<style>\n",
       "    .dataframe thead tr:only-child th {\n",
       "        text-align: right;\n",
       "    }\n",
       "\n",
       "    .dataframe thead th {\n",
       "        text-align: left;\n",
       "    }\n",
       "\n",
       "    .dataframe tbody tr th {\n",
       "        vertical-align: top;\n",
       "    }\n",
       "</style>\n",
       "<table border=\"1\" class=\"dataframe\">\n",
       "  <thead>\n",
       "    <tr style=\"text-align: right;\">\n",
       "      <th></th>\n",
       "      <th>ClubID</th>\n",
       "      <th>Title</th>\n",
       "      <th>Latitude</th>\n",
       "      <th>Longitude</th>\n",
       "      <th>Address Line 1</th>\n",
       "      <th>City</th>\n",
       "      <th>Province</th>\n",
       "      <th>Postal Code</th>\n",
       "      <th>URL</th>\n",
       "      <th>CombinedAddress</th>\n",
       "    </tr>\n",
       "  </thead>\n",
       "  <tbody>\n",
       "    <tr>\n",
       "      <th>0</th>\n",
       "      <td>100.0</td>\n",
       "      <td>Boys and Girls Club of St. Paul &amp; District</td>\n",
       "      <td>53.991060</td>\n",
       "      <td>-111.293202</td>\n",
       "      <td>4821 - 50 Ave.</td>\n",
       "      <td>St. Paul</td>\n",
       "      <td>AB</td>\n",
       "      <td>T0A 3A0</td>\n",
       "      <td>https://www.bgccan.com</td>\n",
       "      <td>4821 - 50 Ave., St. Paul, T0A 3A0, AB</td>\n",
       "    </tr>\n",
       "    <tr>\n",
       "      <th>1</th>\n",
       "      <td>101.0</td>\n",
       "      <td>Saddle Lake Boys and Girls Club</td>\n",
       "      <td>53.969857</td>\n",
       "      <td>-111.692534</td>\n",
       "      <td>404D-50 St.</td>\n",
       "      <td>Saddle Lake</td>\n",
       "      <td>AB</td>\n",
       "      <td>T0A 3T0</td>\n",
       "      <td>https://www.bgccan.com</td>\n",
       "      <td>404D-50 St., Saddle Lake, T0A 3T0, AB</td>\n",
       "    </tr>\n",
       "    <tr>\n",
       "      <th>2</th>\n",
       "      <td>102.0</td>\n",
       "      <td>Boys and Girls Clubs of Bashaw &amp; Area</td>\n",
       "      <td>52.582834</td>\n",
       "      <td>-112.972170</td>\n",
       "      <td>4903 - 50 Avenue</td>\n",
       "      <td>Bashaw</td>\n",
       "      <td>AB</td>\n",
       "      <td>T0B 0H0</td>\n",
       "      <td>https://www.bgccan.com</td>\n",
       "      <td>4903 - 50 Avenue, Bashaw, T0B 0H0, AB</td>\n",
       "    </tr>\n",
       "    <tr>\n",
       "      <th>3</th>\n",
       "      <td>103.0</td>\n",
       "      <td>Stettler &amp; District Boys and Girls Club</td>\n",
       "      <td>52.326772</td>\n",
       "      <td>-112.701204</td>\n",
       "      <td>Heartland Youth Center</td>\n",
       "      <td>Stettler</td>\n",
       "      <td>AB</td>\n",
       "      <td>T0C 2L0</td>\n",
       "      <td>http://stettler.bgccan.com</td>\n",
       "      <td>Heartland Youth Center, Stettler, T0C 2L0, AB</td>\n",
       "    </tr>\n",
       "    <tr>\n",
       "      <th>4</th>\n",
       "      <td>104.0</td>\n",
       "      <td>Boys and Girls Club of Slave Lake</td>\n",
       "      <td>55.278716</td>\n",
       "      <td>-114.803509</td>\n",
       "      <td>Box 232</td>\n",
       "      <td>Slave Lake</td>\n",
       "      <td>AB</td>\n",
       "      <td>T0G 2A2</td>\n",
       "      <td>https://www.bgccan.com</td>\n",
       "      <td>Box 232, Slave Lake, T0G 2A2, AB</td>\n",
       "    </tr>\n",
       "  </tbody>\n",
       "</table>\n",
       "</div>"
      ],
      "text/plain": [
       "   ClubID                                       Title   Latitude   Longitude  \\\n",
       "0   100.0  Boys and Girls Club of St. Paul & District  53.991060 -111.293202   \n",
       "1   101.0             Saddle Lake Boys and Girls Club  53.969857 -111.692534   \n",
       "2   102.0       Boys and Girls Clubs of Bashaw & Area  52.582834 -112.972170   \n",
       "3   103.0     Stettler & District Boys and Girls Club  52.326772 -112.701204   \n",
       "4   104.0           Boys and Girls Club of Slave Lake  55.278716 -114.803509   \n",
       "\n",
       "           Address Line 1         City Province Postal Code  \\\n",
       "0          4821 - 50 Ave.     St. Paul       AB     T0A 3A0   \n",
       "1             404D-50 St.  Saddle Lake       AB     T0A 3T0   \n",
       "2        4903 - 50 Avenue       Bashaw       AB     T0B 0H0   \n",
       "3  Heartland Youth Center     Stettler       AB     T0C 2L0   \n",
       "4                 Box 232   Slave Lake       AB     T0G 2A2   \n",
       "\n",
       "                          URL                                CombinedAddress  \n",
       "0      https://www.bgccan.com          4821 - 50 Ave., St. Paul, T0A 3A0, AB  \n",
       "1      https://www.bgccan.com          404D-50 St., Saddle Lake, T0A 3T0, AB  \n",
       "2      https://www.bgccan.com          4903 - 50 Avenue, Bashaw, T0B 0H0, AB  \n",
       "3  http://stettler.bgccan.com  Heartland Youth Center, Stettler, T0C 2L0, AB  \n",
       "4      https://www.bgccan.com               Box 232, Slave Lake, T0G 2A2, AB  "
      ]
     },
     "execution_count": 9,
     "metadata": {},
     "output_type": "execute_result"
    }
   ],
   "source": [
    "clubCSV.head()"
   ]
  },
  {
   "cell_type": "code",
   "execution_count": 10,
   "metadata": {},
   "outputs": [],
   "source": [
    "# Read charity-event mapping csv\n",
    "fieldsMapping = ['ClubID', 'startTime', 'endTime', 'EventID', 'EVENT']\n",
    "charityEventCSV = pd.read_csv('/Users/hardiksahi/Desktop/HackathonData/CharityEventMapping.csv', usecols=fieldsMapping)"
   ]
  },
  {
   "cell_type": "code",
   "execution_count": 11,
   "metadata": {
    "collapsed": true
   },
   "outputs": [],
   "source": [
    "charityEventCSV['startTime']= charityEventCSV['startTime'].astype('float')\n",
    "charityEventCSV['endTime']= charityEventCSV['endTime'].astype('float')\n",
    "charityEventCSV['EventID']= charityEventCSV['EventID'].astype('float')"
   ]
  },
  {
   "cell_type": "code",
   "execution_count": 12,
   "metadata": {},
   "outputs": [
    {
     "data": {
      "text/html": [
       "<div>\n",
       "<style>\n",
       "    .dataframe thead tr:only-child th {\n",
       "        text-align: right;\n",
       "    }\n",
       "\n",
       "    .dataframe thead th {\n",
       "        text-align: left;\n",
       "    }\n",
       "\n",
       "    .dataframe tbody tr th {\n",
       "        vertical-align: top;\n",
       "    }\n",
       "</style>\n",
       "<table border=\"1\" class=\"dataframe\">\n",
       "  <thead>\n",
       "    <tr style=\"text-align: right;\">\n",
       "      <th></th>\n",
       "      <th>ClubID</th>\n",
       "      <th>startTime</th>\n",
       "      <th>endTime</th>\n",
       "      <th>EventID</th>\n",
       "      <th>EVENT</th>\n",
       "    </tr>\n",
       "  </thead>\n",
       "  <tbody>\n",
       "    <tr>\n",
       "      <th>0</th>\n",
       "      <td>101</td>\n",
       "      <td>12.0</td>\n",
       "      <td>15.0</td>\n",
       "      <td>1.0</td>\n",
       "      <td>Flag football tournament</td>\n",
       "    </tr>\n",
       "    <tr>\n",
       "      <th>1</th>\n",
       "      <td>102</td>\n",
       "      <td>12.0</td>\n",
       "      <td>18.0</td>\n",
       "      <td>8.0</td>\n",
       "      <td>police vs youth soccer game</td>\n",
       "    </tr>\n",
       "    <tr>\n",
       "      <th>2</th>\n",
       "      <td>103</td>\n",
       "      <td>14.0</td>\n",
       "      <td>18.0</td>\n",
       "      <td>39.0</td>\n",
       "      <td>Campfire</td>\n",
       "    </tr>\n",
       "    <tr>\n",
       "      <th>3</th>\n",
       "      <td>103</td>\n",
       "      <td>14.0</td>\n",
       "      <td>15.0</td>\n",
       "      <td>27.0</td>\n",
       "      <td>Game night</td>\n",
       "    </tr>\n",
       "    <tr>\n",
       "      <th>4</th>\n",
       "      <td>104</td>\n",
       "      <td>15.0</td>\n",
       "      <td>18.0</td>\n",
       "      <td>17.0</td>\n",
       "      <td>Variety of Club activities</td>\n",
       "    </tr>\n",
       "  </tbody>\n",
       "</table>\n",
       "</div>"
      ],
      "text/plain": [
       "   ClubID  startTime  endTime  EventID                        EVENT\n",
       "0     101       12.0     15.0      1.0     Flag football tournament\n",
       "1     102       12.0     18.0      8.0  police vs youth soccer game\n",
       "2     103       14.0     18.0     39.0                     Campfire\n",
       "3     103       14.0     15.0     27.0                   Game night\n",
       "4     104       15.0     18.0     17.0   Variety of Club activities"
      ]
     },
     "execution_count": 12,
     "metadata": {},
     "output_type": "execute_result"
    }
   ],
   "source": [
    "charityEventCSV.head()"
   ]
  },
  {
   "cell_type": "code",
   "execution_count": 13,
   "metadata": {
    "collapsed": true
   },
   "outputs": [],
   "source": [
    "mergedDF = pd.merge(charityEventCSV, clubCSV, on='ClubID')"
   ]
  },
  {
   "cell_type": "code",
   "execution_count": 14,
   "metadata": {},
   "outputs": [
    {
     "data": {
      "text/plain": [
       "Index(['ClubID', 'startTime', 'endTime', 'EventID', 'EVENT', 'Title',\n",
       "       'Latitude', 'Longitude', 'Address Line 1', 'City', 'Province',\n",
       "       'Postal Code', 'URL', 'CombinedAddress'],\n",
       "      dtype='object')"
      ]
     },
     "execution_count": 14,
     "metadata": {},
     "output_type": "execute_result"
    }
   ],
   "source": [
    "mergedDF.columns"
   ]
  },
  {
   "cell_type": "code",
   "execution_count": 15,
   "metadata": {},
   "outputs": [],
   "source": [
    "# Create a list f dictionaries\n",
    "listDict = []\n",
    "clubRange = [c for c in range(mergedDF.shape[0])]\n",
    "countOfStudentObjects = 2000\n",
    "\n",
    "#csvField = ['age','province','clubName','clubID','clubLocation','eventName','eventID','eventStartTime','eventEndTime']\n",
    "childFinalDF = pd.DataFrame({'age':[],'province':[],'clubName':[],'clubID':[],'clubLocation':[],'eventName':[],'eventID':[],'eventStartTime':[],'eventEndTime':[], 'lat':[], 'long':[]})\n",
    "for i in range(countOfStudentObjects):\n",
    "    clubIndex = random.choice(clubRange)\n",
    "    age = random.choice(ageRange)\n",
    "    province = mergedDF['Province'][clubIndex]\n",
    "    \n",
    "    #Club specific information\n",
    "    clubName = mergedDF['Title'][clubIndex]\n",
    "    clubID = mergedDF['ClubID'][clubIndex]\n",
    "    clubLocation = mergedDF['CombinedAddress'][clubIndex]\n",
    "    clubLat = mergedDF['Latitude'][clubIndex]\n",
    "    clubLong = mergedDF['Longitude'][clubIndex]\n",
    "    clubObject = club(clubID, clubName, clubLocation,clubLat,clubLong)\n",
    "    \n",
    "    #Event specific\n",
    "    eventName = mergedDF['EVENT'][clubIndex]\n",
    "    eventID = mergedDF['EventID'][clubIndex]\n",
    "    eventStartTime = mergedDF['startTime'][clubIndex]\n",
    "    eventEndTime = mergedDF['endTime'][clubIndex]\n",
    "    eventObject = event(eventID, eventName, eventStartTime, eventEndTime)\n",
    "    \n",
    "    studentDict = {'age':age, 'province':province, 'club':clubObject, 'event': eventObject} #, 'club':clubObject, 'event': eventObject\n",
    "    listDict.append(studentDict)\n",
    "    \n",
    "    #childRow = [age, province, clubName, clubID, clubLocation,eventName,eventID,eventStartTime,eventEndTime]\n",
    "    #print(childRow)\n",
    "    childFinalDF = childFinalDF.append({'age':age,'province':province,'clubName':clubName,'clubID':clubID,'clubLocation':clubLocation,'eventName':eventName,'eventID':eventID,'eventStartTime':eventStartTime,'eventEndTime':eventEndTime,'lat':clubLat, 'long':clubLong},ignore_index=True)\n",
    "    "
   ]
  },
  {
   "cell_type": "code",
   "execution_count": 16,
   "metadata": {},
   "outputs": [],
   "source": [
    "jsonDump = json.dumps(listDict, default=lambda o: o.__dict__)"
   ]
  },
  {
   "cell_type": "code",
   "execution_count": 17,
   "metadata": {
    "collapsed": true
   },
   "outputs": [],
   "source": [
    "# Save csv\n",
    "childFinalDF.to_csv('/Users/hardiksahi/Desktop/HackathonData/childFinalDF.csv')"
   ]
  },
  {
   "cell_type": "code",
   "execution_count": 18,
   "metadata": {
    "collapsed": true
   },
   "outputs": [],
   "source": [
    "# Save json\n",
    "with open('/Users/hardiksahi/Desktop/HackathonData/childFinalDF.json', 'w') as outfile:\n",
    "    json.dump(jsonDump, outfile)"
   ]
  },
  {
   "cell_type": "code",
   "execution_count": 19,
   "metadata": {
    "collapsed": true
   },
   "outputs": [],
   "source": [
    "clubCSV.to_csv('/Users/hardiksahi/Desktop/HackathonData/clubCSVForR.csv')\n"
   ]
  },
  {
   "cell_type": "code",
   "execution_count": null,
   "metadata": {
    "collapsed": true
   },
   "outputs": [],
   "source": []
  }
 ],
 "metadata": {
  "kernelspec": {
   "display_name": "Python 3",
   "language": "python",
   "name": "python3"
  },
  "language_info": {
   "codemirror_mode": {
    "name": "ipython",
    "version": 3
   },
   "file_extension": ".py",
   "mimetype": "text/x-python",
   "name": "python",
   "nbconvert_exporter": "python",
   "pygments_lexer": "ipython3",
   "version": "3.6.1"
  }
 },
 "nbformat": 4,
 "nbformat_minor": 2
}
